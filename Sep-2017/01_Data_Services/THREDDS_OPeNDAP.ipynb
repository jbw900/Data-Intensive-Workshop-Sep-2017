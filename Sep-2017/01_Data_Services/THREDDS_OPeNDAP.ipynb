{
 "cells": [
  {
   "cell_type": "markdown",
   "metadata": {},
   "source": [
    "![](../nci-logo.png)\n",
    "\n",
    "-------\n",
    "\n",
    "# THREDDS Data Server: OPeNDAP\n",
    "\n",
    "\n",
    "\n",
    "### In this notebook:\n",
    "\n",
    "- How to use OPeNDAP through NCI's THREDDS data server\n",
    "\n",
    "\n",
    "\n",
    "#### The following material uses Geoscience Australia's Landsat 8 Data Collection which is available under the Create Commons License 4.0 through NCI's THREDDS Data Server. For more information on the collection and licensing, please [click here](http://geonetwork.nci.org.au/geonetwork/srv/eng/catalog.search#/metadata/3a2cd509-0e82-4381-98c7-522756da533b). \n",
    "\n",
    "---------\n",
    "\n",
    "<br>\n",
    "\n",
    "\n"
   ]
  },
  {
   "cell_type": "markdown",
   "metadata": {},
   "source": [
    "## Browse for data\n",
    "\n",
    "Begin by going to NCI's Geonetwork page: http://geonetwork.nci.org.au/\n",
    "\n",
    "This page contains the metadata records for NCI Data Collections as well as information on where to find the data. \n",
    "\n",
    "<img src=\"./images/gn1.png\">\n",
    "\n",
    "In this example, we will search for Earth Observation data:\n",
    "\n",
    "<img src=\"./images/gn2.png\">\n",
    "\n",
    "If we click on the result titled GA Earth Observation - Data, we see a brief overview of the metadata record. **Note:** For the full record, navigate to the upper-right corner of your browser to change to the \"Full view\" (eyeball icon). \n",
    "\n",
    "Now lets click on the Earth Observation Archive link.\n",
    "\n",
    "<img src =\"./images/gn2b.png\">\n",
    "\n",
    "One of the options under **Download and links** is the NCI THREDDS data server link: \n",
    "\n",
    "<img src=\"./images/gn3.png\">\n",
    "\n",
    "By navigating to this link, the available (public) data subcollections and datasets will be visible:\n",
    "\n",
    "<img src=\"./images/thredds10.png\">\n",
    "\n",
    "\n",
    "In this example, let's navigate to the ** LS8_OLI_NBRAT ** dataset: \n",
    "\n",
    "<img src=\"./images/thredds11.png\">\n",
    "\n",
    "and click on any file within:\n",
    "\n",
    "<img src=\"./images/thredds11b.png\">"
   ]
  },
  {
   "cell_type": "markdown",
   "metadata": {},
   "source": [
    "## To access the data we have several options. First select a data file:\n",
    "\n",
    "<img src=\"./images/thredds12.png\">"
   ]
  },
  {
   "cell_type": "markdown",
   "metadata": {
    "collapsed": true
   },
   "source": [
    "# OPeNDAP\n",
    "\n",
    "\n",
    "### On the THREDDS catalog page for the file, click the link titled:  **OPeNDAP** \n",
    "\n",
    "\n",
    "<img src=\"./images/thredds2.png\">\n",
    "\n",
    "\n",
    "\n",
    "### This will direct to the 'OPeNDAP Dataset Access Form' \n",
    "\n",
    "This page will list information on the file contents, including file metadata and variables. Each variable will also contain a list of variable-level metadata (or attributes).  \n",
    "\n",
    "<img src=\"./images/thredds3.png\">\n",
    "\n",
    "\n",
    "### Request subset in ASCII format:\n",
    "\n",
    "#### 1. To request a subset with the OPeNDAP Dataset Access Form, begin by selecting the desired subset. \n",
    "\n",
    "#### 2. To select a variable: \n",
    "\n",
    "   - Tick the box to the left of the variable name \n",
    "   - Provide subset range for each dimension of the variable\n",
    "\n",
    "   <img src=\"./images/thredds4.png\">\n",
    "\n",
    "\n",
    "#### 3. Navigate to the top of the page and select \"Get ASCII\"\n",
    "\n",
    "<img src=\"./images/thredds5.png\">\n",
    "\n",
    "\n",
    "#### 4. This should return the subset in a new window that can be copied/pasted or saved as a new file. \n",
    "\n",
    "<img src=\"./images/thredds6.png\">"
   ]
  },
  {
   "cell_type": "markdown",
   "metadata": {
    "collapsed": true
   },
   "source": [
    "### Use OPeNDAP for remote data access with Python\n",
    "\n",
    "#### 1. Return to the OPeNDAP Dataset Access Form page\n",
    "\n",
    "#### 2. Copy the URL in the field titled \"Data URL\"\n",
    "\n",
    "<img src=\"./images/thredds7.png\">\n",
    "\n",
    "#### 3. This URL can be used in the same manner as the path to a local file within many tools and services. Examples of this will be covered in later sections.\n",
    "\n"
   ]
  },
  {
   "cell_type": "code",
   "execution_count": null,
   "metadata": {
    "collapsed": true
   },
   "outputs": [],
   "source": []
  }
 ],
 "metadata": {
  "anaconda-cloud": {},
  "kernelspec": {
   "display_name": "Python 3",
   "language": "python",
   "name": "python3"
  },
  "language_info": {
   "codemirror_mode": {
    "name": "ipython",
    "version": 3
   },
   "file_extension": ".py",
   "mimetype": "text/x-python",
   "name": "python",
   "nbconvert_exporter": "python",
   "pygments_lexer": "ipython3",
   "version": "3.6.2"
  }
 },
 "nbformat": 4,
 "nbformat_minor": 1
}
