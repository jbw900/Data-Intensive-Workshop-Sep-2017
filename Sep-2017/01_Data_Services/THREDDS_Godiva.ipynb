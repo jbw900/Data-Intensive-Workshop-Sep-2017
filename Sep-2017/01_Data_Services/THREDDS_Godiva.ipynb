{
 "cells": [
  {
   "cell_type": "markdown",
   "metadata": {
    "nbpresent": {
     "id": "2e8a6120-1bbd-4e36-ad77-ff9899d8d453"
    }
   },
   "source": [
    "![](../nci-logo.png)\n",
    "\n",
    "-------\n",
    "\n",
    "# THREDDS Data Server: Godiva ncWMS Viewer\n"
   ]
  },
  {
   "cell_type": "markdown",
   "metadata": {
    "nbpresent": {
     "id": "5d28f705-eb76-4867-8911-59b714a8d664"
    }
   },
   "source": [
    "# In this notebook:\n",
    "\n",
    "- How to use the Godiva ncWMS viewer on NCI's THREDDS data server\n",
    "\n",
    "\n",
    "\n",
    "#### The following material uses Geoscience Australia's Landsat 8 Data Collection which is available under the Creative Commons License 4.0. For more information on the collection and licensing, please [click here](http://geonetwork.nci.org.au/geonetwork/srv/eng/catalog.search#/metadata/3a2cd509-0e82-4381-98c7-522756da533b). \n",
    "\n",
    "---------\n",
    "\n",
    "<br>"
   ]
  },
  {
   "cell_type": "markdown",
   "metadata": {},
   "source": [
    "# Browse for data\n",
    "\n",
    "Begin by going to NCI's Geonetwork page: http://geonetwork.nci.org.au/\n",
    "\n",
    "This page contains the metadata records for NCI Data Collections as well as information on where to find the data. \n",
    "\n",
    "<img src=\"./images/gn1.png\">\n",
    "\n",
    "In this example, we will search for Earth Observation data:\n",
    "\n",
    "<img src=\"./images/gn2.png\">\n",
    "\n",
    "If we click on the result titled GA Earth Observation - Data, we see a brief overview of the metadata record. **Note:** For the full record, navigate to the upper-right corner of your browser to change to the \"Full view\" (eyeball icon). \n",
    "\n",
    "Now lets click on the Earth Observation Archive link.\n",
    "\n",
    "<img src=\"./images/gn2b.png\">\n",
    "\n",
    "One of the options under **Download and links** is the NCI THREDDS data server link: \n",
    "\n",
    "<img src=\"./images/gn3.png\">\n",
    "\n",
    "By navigating to this link, the available (public) data subcollections and datasets will be visible:\n",
    "\n",
    "<img src=\"./images/thredds10.png\">\n",
    "\n",
    "\n",
    "In this example, let's navigate to the ** LS8_OLI_NBART ** dataset: \n",
    "\n",
    "<img src=\"./images/thredds11.png\">\n",
    "\n",
    "and click on any file within:\n",
    "\n",
    "<img src=\"./images/thredds11b.png\">"
   ]
  },
  {
   "cell_type": "markdown",
   "metadata": {
    "nbpresent": {
     "id": "6547ef84-305d-4058-835a-e5148758f4d1"
    }
   },
   "source": [
    "# Using Godiva \n",
    "\n",
    "### Under \"Viewers\", click on the \"Godiva2\" link\n",
    "\n",
    "<img src=\"./images/Godiva1.png\">\n",
    "\n",
    "\n",
    "### This will direct to the Godiva viewer\n",
    "\n",
    "<img src=\"./images/Godiva2.png\">\n",
    "\n",
    "\n",
    "### Expand the dataset\n",
    "\n",
    "<img src=\"./images/Godiva3.png\">\n",
    "\n",
    "\n",
    "### Select a variable (or subdataset)\n",
    "\n",
    "<img src=\"./images/Godiva4.png\">\n",
    "\n",
    "\n",
    "### If time is a dimensions, a time step can be selected. \n",
    "**Note:** The default colorscale may not be appropriate for the dataset. These can be modified to the right of the viewer. \n",
    "\n",
    "\n",
    "<img src=\"./images/Godiva5.png\">\n",
    "\n",
    "\n",
    "\n",
    "<img src=\"./images/Godiva6.png\">\n",
    "\n",
    "\n",
    "### To change the default colormap, left-click on the colorbar\n",
    "\n",
    "<img src=\"./images/Godiva7.png\">\n"
   ]
  },
  {
   "cell_type": "markdown",
   "metadata": {
    "nbpresent": {
     "id": "db0cd9ed-c345-4a3c-973b-c1f8ce45f185"
    }
   },
   "source": [
    "## Making animations\n",
    "<br>\n",
    "<br>\n",
    "\n",
    "<div class=\"alert alert-success\">\n",
    "<b>Try using Godiva to view and make an animation with another dataset (example below). </b> \n",
    "<br>\n",
    "<br>\n",
    "http://dapds00.nci.org.au/thredds/catalog/fx3/gbr4_v2/catalog.html?dataset=fx3-gbr4_v2/gbr4_simple_2016-10.nc\n",
    "\n",
    "<br>\n",
    "<br>\n",
    "\n",
    "<b>Hint:</b> To make an animation, navigate to the point in time you would like the animation to start and select \"first frame\". Do the same for the point in time you would like to be the \"last frame\". Then select \"Create Animation\". BUT be careful not to create an animation with too many time steps. Keep it less than 100 frames to start with. \n",
    "\n",
    "</div>"
   ]
  },
  {
   "cell_type": "code",
   "execution_count": null,
   "metadata": {
    "collapsed": true
   },
   "outputs": [],
   "source": []
  }
 ],
 "metadata": {
  "anaconda-cloud": {},
  "kernelspec": {
   "display_name": "Python 3",
   "language": "python",
   "name": "python3"
  },
  "language_info": {
   "codemirror_mode": {
    "name": "ipython",
    "version": 3
   },
   "file_extension": ".py",
   "mimetype": "text/x-python",
   "name": "python",
   "nbconvert_exporter": "python",
   "pygments_lexer": "ipython3",
   "version": "3.6.2"
  },
  "nbpresent": {
   "slides": {},
   "themes": {
    "default": "209f9791-0aee-4bba-bfb7-90f66166591b",
    "theme": {
     "209f9791-0aee-4bba-bfb7-90f66166591b": {
      "backgrounds": {
       "backgroundColor": {
        "background-color": "backgroundColor",
        "id": "backgroundColor"
       }
      },
      "id": "209f9791-0aee-4bba-bfb7-90f66166591b",
      "palette": {
       "backgroundColor": {
        "id": "backgroundColor",
        "rgb": [
         43,
         43,
         43
        ]
       },
       "headingColor": {
        "id": "headingColor",
        "rgb": [
         238,
         238,
         238
        ]
       },
       "linkColor": {
        "id": "linkColor",
        "rgb": [
         19,
         218,
         236
        ]
       },
       "mainColor": {
        "id": "mainColor",
        "rgb": [
         238,
         238,
         238
        ]
       }
      },
      "rules": {
       "a": {
        "color": "linkColor"
       },
       "h1": {
        "color": "headingColor",
        "font-family": "Oswald",
        "font-size": 7
       },
       "h2": {
        "color": "headingColor",
        "font-family": "Oswald",
        "font-size": 5
       },
       "h3": {
        "color": "headingColor",
        "font-family": "Oswald",
        "font-size": 3.75
       },
       "h4": {
        "color": "headingColor",
        "font-family": "Oswald",
        "font-size": 3
       },
       "h5": {
        "color": "headingColor",
        "font-family": "Oswald"
       },
       "h6": {
        "color": "headingColor",
        "font-family": "Oswald"
       },
       "h7": {
        "color": "headingColor",
        "font-family": "Oswald"
       },
       "li": {
        "color": "mainColor",
        "font-family": "Lato",
        "font-size": 5
       },
       "p": {
        "color": "mainColor",
        "font-family": "Lato",
        "font-size": 5
       }
      },
      "text-base": {
       "color": "mainColor",
       "font-family": "Lato",
       "font-size": 5
      }
     },
     "f30cb657-2eb8-44d7-a3c8-5f20ebb1d166": {
      "id": "f30cb657-2eb8-44d7-a3c8-5f20ebb1d166",
      "palette": {
       "19cc588f-0593-49c9-9f4b-e4d7cc113b1c": {
        "id": "19cc588f-0593-49c9-9f4b-e4d7cc113b1c",
        "rgb": [
         252,
         252,
         252
        ]
       },
       "31af15d2-7e15-44c5-ab5e-e04b16a89eff": {
        "id": "31af15d2-7e15-44c5-ab5e-e04b16a89eff",
        "rgb": [
         68,
         68,
         68
        ]
       },
       "50f92c45-a630-455b-aec3-788680ec7410": {
        "id": "50f92c45-a630-455b-aec3-788680ec7410",
        "rgb": [
         155,
         177,
         192
        ]
       },
       "c5cc3653-2ee1-402a-aba2-7caae1da4f6c": {
        "id": "c5cc3653-2ee1-402a-aba2-7caae1da4f6c",
        "rgb": [
         43,
         126,
         184
        ]
       },
       "efa7f048-9acb-414c-8b04-a26811511a21": {
        "id": "efa7f048-9acb-414c-8b04-a26811511a21",
        "rgb": [
         25.118061674008803,
         73.60176211453744,
         107.4819383259912
        ]
       }
      },
      "rules": {
       "blockquote": {
        "color": "50f92c45-a630-455b-aec3-788680ec7410"
       },
       "code": {
        "font-family": "Anonymous Pro"
       },
       "h1": {
        "color": "c5cc3653-2ee1-402a-aba2-7caae1da4f6c",
        "font-family": "Lato",
        "font-size": 8
       },
       "h2": {
        "color": "c5cc3653-2ee1-402a-aba2-7caae1da4f6c",
        "font-family": "Lato",
        "font-size": 6
       },
       "h3": {
        "color": "50f92c45-a630-455b-aec3-788680ec7410",
        "font-family": "Lato",
        "font-size": 5.5
       },
       "h4": {
        "color": "c5cc3653-2ee1-402a-aba2-7caae1da4f6c",
        "font-family": "Lato",
        "font-size": 5
       },
       "h5": {
        "font-family": "Lato"
       },
       "h6": {
        "font-family": "Lato"
       },
       "h7": {
        "font-family": "Lato"
       },
       "pre": {
        "font-family": "Anonymous Pro",
        "font-size": 4
       }
      },
      "text-base": {
       "font-family": "Merriweather",
       "font-size": 4
      }
     }
    }
   }
  }
 },
 "nbformat": 4,
 "nbformat_minor": 1
}
