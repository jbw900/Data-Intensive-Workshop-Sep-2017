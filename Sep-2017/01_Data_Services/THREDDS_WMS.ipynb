{
 "cells": [
  {
   "cell_type": "markdown",
   "metadata": {},
   "source": [
    "![](../nci-logo.png)\n",
    "\n",
    "-------\n",
    "\n",
    "# Web Map Service (WMS)\n",
    "## Requesting map images through NCI's THREDDS Data Server\n",
    "\n",
    "\n",
    "\n",
    "### In this notebook:\n",
    "\n",
    "#### How to use the Open Geospatial Consortium (OGC) Web Map Service (WMS) protocol through NCI's THREDDS data server\n",
    "- <a href='#wms'> Web Map Service (WMS)</a>\n",
    "    - <a href='#wms_example'> Basic WMS example</a>\n",
    "    - <a href='#wms_getmap'> Constructing GetMap Requests</a>\n",
    "    \n",
    "    \n",
    "\n",
    "#### The following material uses Geoscience Australia's Landsat 8 and CSIRO's eReefs Data Collections, which are available under the Create Commons License 4.0. For more information on the collection and licensing, please click [here](http://geonetwork.nci.org.au/geonetwork/srv/eng/catalog.search#/metadata/3a2cd509-0e82-4381-98c7-522756da533b) (Landsat) or [here](https://geonetwork.nci.org.au/geonetwork/srv/eng/catalog.search#/metadata/f8695_6401_6115_6704) (eReefs).  \n",
    "\n",
    "---------\n",
    "\n",
    "<br>\n"
   ]
  },
  {
   "cell_type": "markdown",
   "metadata": {},
   "source": [
    "<a id='wms'></a> \n",
    "## NetCDF Web Map Service (ncWMS)"
   ]
  },
  {
   "cell_type": "markdown",
   "metadata": {},
   "source": [
    "NCI's THREDDS Data Server supports OGC's Web Map Service (WMS) for gridded data collections, which is a standard protocol for serving geospatial data as images (e.g., PNG, JPEG).   "
   ]
  },
  {
   "cell_type": "markdown",
   "metadata": {},
   "source": [
    "### Navigate to the dataset THREDDS catalog page and select the WMS link\n",
    "\n",
    "http://dapds00.nci.org.au/thredds/catalog/rs0/datacube/002/LS8_OLI_NBART/-10_-11/catalog.html?dataset=LS8_OLI_NBART/-10_-11/LS8_OLI_NBART_3577_-10_-11_20160109015321000000.nc\n",
    "\n",
    "\n",
    "<img src=\"./images/threddsWMS1.png\">\n"
   ]
  },
  {
   "cell_type": "markdown",
   "metadata": {},
   "source": [
    "### GetCapabilities \n",
    "\n",
    "This will display the WMS 'GetCapabilities' request in xml, which describes the WMS parameters (metadata, services, and data) available by the server. These options are used to generate a GetMap request, an operation which requests that the server generate a map. \n",
    "\n",
    "<img src=\"./images/threddsWMS2.png\">\n",
    "\n",
    "> **GetCapabilities example:**\n",
    "\n",
    ">http://dapds00.nci.org.au/thredds/wms/rs0/datacube/002/LS8_OLI_NBART/-10_-11/LS8_OLI_NBART_3577_-10_-11_20160109015321000000.nc?service=WMS&version=1.3.0&request=GetCapabilities\n",
    "\n"
   ]
  },
  {
   "cell_type": "markdown",
   "metadata": {},
   "source": [
    "<a id='wms_example'></a> \n",
    "### Simple WMS Example\n",
    "\n",
    "#### Several WMS tools accept the GetCapabilities URL and allow users to interactively generate a GetMap request\n",
    "\n",
    "This `GetCapabilities` URL can be used to load data as an image overlay in several tools, such as [Google Earth](https://www.google.com/earth/) and [QGIS](http://www.qgis.org/en/site/), as well as with interactive spatial data websites like Australia's [NationalMap](https://nationalmap.gov.au/) (example below).   \n",
    "\n",
    "**Note:** This results in a map request built with the default settings. Colourmaps, colour scales, and time (if applicable) may not always be defined appropriately. In such cases, full `GetMap` requests will need to be requested (more on these below). \n",
    "\n",
    "<br>\n",
    "<br>\n",
    "<br>\n",
    "\n",
    "#### 1. Begin by copying the `GetCapabilities` URL from THREDDS\n",
    "\n",
    "Let's try with a new dataset:\n",
    "<br>\n",
    "http://dapds00.nci.org.au/thredds/catalog/fx3/gbr4_v2/catalog.html?dataset=fx3-gbr4_v2/gbr4_simple_2016-10.nc \n",
    "\n",
    "\n",
    "#### 2. Open a web browser and go to: https://nationalmap.gov.au \n",
    "\n",
    "\n",
    "#### 3. Select **Add Data**\n",
    "\n",
    "#### 4. Select \"My Data\"\n",
    "\n",
    "<img src=\"./images/natmap1.png\">\n",
    "\n",
    "#### 5. \"Add Web Data\"\n",
    "\n",
    "<img src=\"./images/natmap2.png\">\n",
    "\n",
    "#### 6. Enter your \"GetCapabilities URL\" and select \"Add\"\n",
    "\n",
    "<img src=\"./images/natmap3.png\">\n",
    "\n",
    "#### 7. Select a layer (i.e., variable) to add to the map\n",
    "\n",
    "<img src=\"./images/natmap4.png\">\n",
    "\n",
    "#### 8. Then select \"Done\" and data should then display on map\n",
    "\n",
    "<img src=\"./images/natmap5.png\">\n",
    "\n",
    "#### 9. The default colour range may often be inappropriate. Enter new min/max values to adjust colourscale. \n",
    "<img src=\"./images/natmap6.png\">\n",
    "\n",
    "#### 10. When data includes a time dimension, NationalMap will display a toolbar at the bottom of page that allows you to browse through time.  \n",
    "<img src=\"./images/natmap7.png\">"
   ]
  },
  {
   "cell_type": "markdown",
   "metadata": {},
   "source": [
    "<a id='wms_getmap'></a> \n",
    "### Constructing GetMap Requests\n",
    "\n",
    "Tools like those mentioned above can often request data on the fly to generate the maps but if you would like to directly download your own map directly, a full `GetMap` URL needs to be constructed. \n",
    "\n",
    "\n",
    "**The request takes the following form:**\n",
    "\n",
    "> `http://dapds00.nci.org.au/thredds/wcs/<thredds-path-to-data-file>?`\n",
    "<FONT COLOR=\"red\">service</FONT>=WMS&<FONT \n",
    "COLOR=\"red\">version</FONT>=1.3.0&<FONT \n",
    "COLOR=\"red\">request</FONT>=GetMap&<FONT \n",
    "COLOR=\"red\">layers</FONT>=<FONT \n",
    "COLOR=\"#00cc99\">value</FONT>&<FONT \n",
    "COLOR=\"red\">crs</FONT>=<FONT \n",
    "COLOR=\"#00cc99\">value</FONT>&<FONT\n",
    "COLOR=\"red\">styles</FONT>=<FONT \n",
    "COLOR=\"#00cc99\">value</FONT>&<FONT\n",
    "COLOR=\"red\">format</FONT>=<FONT \n",
    "COLOR=\"#00cc99\">value</FONT>&<FONT\n",
    "COLOR=\"red\">bbox</FONT>=<FONT \n",
    "COLOR=\"#00cc99\">value</FONT>&<FONT \n",
    "COLOR=\"red\">width</FONT>=<FONT \n",
    "COLOR=\"#00cc99\">value</FONT>&<FONT \n",
    "COLOR=\"red\">height</FONT>=<FONT \n",
    "COLOR=\"#00cc99\">value</FONT>&\n",
    "<FONT COLOR=\"blue\">colorscalerange</FONT>=<FONT \n",
    "COLOR=\"#00cc99\">value</FONT>&<FONT \n",
    "COLOR=\"blue\">transparent</FONT>=<FONT \n",
    "COLOR=\"#00cc99\">value</FONT>&<FONT \n",
    "COLOR=\"blue\">time</FONT>=<FONT \n",
    "COLOR=\"#00cc99\">value</FONT>\n",
    "\n",
    "where <FONT COLOR=\"red\">red</FONT> indicates required fields, <FONT COLOR=\"blue\">blue</FONT> are optional, and <FONT COLOR=\"00cc99\">green</FONT> are where inputs values relevant to the dataset and user request need to be defined. \n",
    "\n"
   ]
  },
  {
   "cell_type": "markdown",
   "metadata": {},
   "source": [
    "##### GetMap parameters:\n",
    "\n",
    "|Parameter    |  Required/Optional  |  Input                                                            |\n",
    "|-------------|:-------------------:|------------------                                                 |\n",
    "|service      |     Required        |      WMS                                                          |\n",
    "|version      |     Required        |  `1.1.1**`, `1.3.0 (default)`                                     |\n",
    "|request      |     Required        | `GetMap`                                                          |\n",
    "|Layers       |     Required        | `<variable>`                                                      |\n",
    "|crs          |     Required        | `<crs_value>`                                                     |\n",
    "|styles       |     Required        | `<style_name>`                                                    |\n",
    "|format       |     Required        | `image/png `, `image/png;mode=32bit `, `image/gif `, `image/jpeg `|\n",
    "|bbox         |     Required        | `<ymin,xmin,ymax,xmax>`                                           |\n",
    "|width        |     Required        | Image width in pixels                                             |\n",
    "|height       |     Required        | Image height in pixels                                            |\n",
    "|colorscalerange |  Optional        | `<min,max>`                                                       |\n",
    "|transparent  |     Optional        | True, False                                                       |\n",
    "|time         |     Optional        | `<time_value>`                                                    |\n",
    "\n",
    "\n",
    "\n",
    "\n",
    "\n",
    "`**`**Syntax differences for v1.1.1 GetMap requests:**\n",
    "- Use `srs` in place of `crs`\n",
    "- The order of `bbox` values is: `<xmin,ymin,xmax,ymax>`\n",
    "\n",
    "\n",
    "<br>"
   ]
  },
  {
   "cell_type": "markdown",
   "metadata": {},
   "source": [
    "### The above parameters can all be found within the `GetCapabilities` request.\n",
    "\n",
    "<img src=\"./images/threddsWMS4.png\">\n",
    "\n",
    "\n",
    "> **GetMap request example:**\n",
    "\n",
    "\n",
    "> [http://dapds00.nci.org.au/thredds/wms/rs0/datacube/002/LS8_OLI_NBART/-10_-11/LS8_OLI_NBART_3577_-10_-11_20160109015321000000.nc?<br/>\n",
    "service=WMS&<br/>\n",
    "version=1.3.0&<br/>\n",
    "request=GetMap&<br/>\n",
    "Layers=blue&<br/>\n",
    "crs=EPSG:4326&<br/>\n",
    "styles=boxfill/rainbow&<br/>\n",
    "format=image/png&<br/>\n",
    "colorscalerange=0,2000&<br/>\n",
    "bbox=-10.219164100335659,123.11286155202026,-9.229043719254628,124.05434305622438&<br/>\n",
    "width=1000&<br/>\n",
    "height=1000&<br/>\n",
    "transparent=true&<br/>\n",
    "time=2016-01-09T01:53:21.000Z<br/>\n",
    "](http://dapds00.nci.org.au/thredds/wms/rs0/datacube/002/LS8_OLI_NBART/-10_-11/LS8_OLI_NBART_3577_-10_-11_20160109015321000000.nc?service=WMS&version=1.3.0&request=GetMap&Layers=blue&crs=EPSG:4326&styles=boxfill/rainbow&format=image/png&colorscalerange=0,2000&bbox=-10.219164100335659,123.11286155202026,-9.229043719254628,124.05434305622438&width=1000&height=1000&transparent=true&time=2016-01-09T01:53:21.000Z)\n",
    "\n",
    "\n",
    "### Once complete, the `GetMap` URL can be tested in a web browser. If the URL is correctly form, the requested map will be displayed. \n",
    "\n",
    "<img src=\"./images/threddsWMS5.png\" width=600>"
   ]
  },
  {
   "cell_type": "markdown",
   "metadata": {},
   "source": [
    "<br>\n",
    "<br>\n",
    "<br>\n",
    "\n",
    "\n",
    "--------\n",
    "**For more information on OGC standards specifications (WMS, WCS) and ncWMS:** <br \\>\n",
    "http://www.opengeospatial.org/standards/wms <br \\>\n",
    "http://www.opengeospatial.org/standards/wcs <br \\>\n",
    "https://reading-escience-centre.github.io/ncwms/ <br \\>\n"
   ]
  },
  {
   "cell_type": "code",
   "execution_count": null,
   "metadata": {
    "collapsed": true
   },
   "outputs": [],
   "source": []
  }
 ],
 "metadata": {
  "anaconda-cloud": {},
  "kernelspec": {
   "display_name": "Python 3",
   "language": "python",
   "name": "python3"
  },
  "language_info": {
   "codemirror_mode": {
    "name": "ipython",
    "version": 3
   },
   "file_extension": ".py",
   "mimetype": "text/x-python",
   "name": "python",
   "nbconvert_exporter": "python",
   "pygments_lexer": "ipython3",
   "version": "3.6.2"
  }
 },
 "nbformat": 4,
 "nbformat_minor": 1
}
