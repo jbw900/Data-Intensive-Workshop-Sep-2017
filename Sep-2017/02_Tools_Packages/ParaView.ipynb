{
 "cells": [
  {
   "cell_type": "markdown",
   "metadata": {},
   "source": [
    "![](../nci-logo.png)\n",
    "\n",
    "-------\n",
    "\n",
    "# ParaView\n",
    "[http://www.paraview.org/](http://www.paraview.org/) <br \\>\n",
    "\n",
    "**Tutorial Version:** 4.3.1  <br \\>\n",
    "**Available on Raijin:** 4.0.1, 4.1.0, 4.3.1"
   ]
  },
  {
   "cell_type": "markdown",
   "metadata": {},
   "source": [
    "## Launching ParaView on the VDI"
   ]
  },
  {
   "cell_type": "markdown",
   "metadata": {},
   "source": [
    "From a terminal window, use the `module load` command to load ParaView:\n",
    "\n",
    "```\n",
    "    $ module load paraview/4.3.1 \n",
    "    $ paraview &\n",
    "    \n",
    "```  "
   ]
  },
  {
   "cell_type": "markdown",
   "metadata": {},
   "source": [
    "## ParaView Basics\n",
    "\n",
    "#### From the 'File' menu, select 'Open' to load a new file\n",
    "\n",
    "For this simple example, we will use a file from the CMIP5 Data Collection: \n",
    "\n",
    "> http://dapds00.nci.org.au/thredds/catalog/ua6/authoritative/CMIP5/CSIRO-BOM/ACCESS1-0/abrupt4xCO2/mon/ocean/Omon/r1i1p1/files/tos_20120115/catalog.html?dataset=ua6/CMIP5/CSIRO-BOM/ACCESS1-0/abrupt4xCO2/mon/ocean/Omon/r1i1p1/files/tos_20120115/tos_Omon_ACCESS1-0_abrupt4xCO2_r1i1p1_030001-044912.nc\n",
    "\n",
    "> `/g/data1/ua6/drstree/CMIP5/GCM/CSIRO-BOM/ACCESS1-0/abrupt4xCO2/mon/ocean/tos/r1i1p1/tos_Omon_ACCESS1-0_abrupt4xCO2_r1i1p1_030001-044912.nc`\n",
    "\n",
    "<img src=\"./images/paraview1.png\">\n",
    "\n",
    "\n",
    "#### When loading netCDF files, ParaView will ask what reader you would like to use. Select the `NewCDF files generic and CF Conventions` option. \n",
    "<img src=\"./images/paraview2.png\" width=300>\n",
    "\n",
    "\n",
    "#### To view the new dataset, click on the \"eye\" located to the left of the filename in the Pipeline Browser. \n",
    "\n",
    "<img src=\"./images/paraview3.png\">\n",
    "\n",
    "\n",
    "#### Next, select the variable and type of visualisation from the menu options near the top of the application. For example, here we are selecting `tos` as our variable and `surface` as the type of plot. \n",
    "\n",
    "<img src=\"./images/paraview4.png\">\n",
    "\n",
    "\n",
    "#### To modify the viewing/plotting options: \n",
    "\n",
    "1. Navigate to the Pipeline Browser\n",
    "2. Find the \"Coloring\" section and select \"Edit\"\n",
    "3. Select \"Rescale to custom range\" option to define your own min/max colour range. \n",
    "\n",
    "\n",
    "<img src=\"./images/paraview5.png\">\n",
    "\n",
    "\n"
   ]
  },
  {
   "cell_type": "markdown",
   "metadata": {},
   "source": [
    "#### The \"Choose preset\" option can be used to change the colourmap. \n",
    "\n",
    "<img src=\"./images/paraview6.png\">\n",
    "\n",
    "<img src=\"./images/paraview7.png\">\n",
    "\n",
    "\n",
    "#### Custom backgrounds can also be used. \n",
    "\n",
    "(If you would like, download an image of your choice and select **Background** from the Pipeline Browser. \n",
    "\n",
    "<img src=\"./images/paraview8.png\">\n",
    "\n",
    "\n",
    "#### For files with a time axis, the top tool bar will allow you to navigate browse through time. \n",
    "\n",
    "<img src=\"./images/paraview9.png\">\n",
    "\n",
    "\n",
    "#### Select the \"Play\" button to watch an animation of the data. \n",
    "\n",
    "**Note:** You can still interact with the visualisation during this time. Try movie the object around as it loops through the animation. "
   ]
  },
  {
   "cell_type": "markdown",
   "metadata": {},
   "source": [
    "## ParaView on Raijin\n",
    "\n",
    "[ParaView homepage](http://www.paraview.org/)\n",
    "\n",
    "[Raijin information for launching ParaView](https://usersupport.nci.org.au/software/nci_software_host.php?software=Paraview&host=raijin&site=ANU&from_site=ANU&version=all+versions&sub_version=&revision=&sid=4851&sep1=-&sep2=-&all_sites=)"
   ]
  }
 ],
 "metadata": {
  "anaconda-cloud": {},
  "kernelspec": {
   "display_name": "Python 3",
   "language": "python",
   "name": "python3"
  },
  "language_info": {
   "codemirror_mode": {
    "name": "ipython",
    "version": 3
   },
   "file_extension": ".py",
   "mimetype": "text/x-python",
   "name": "python",
   "nbconvert_exporter": "python",
   "pygments_lexer": "ipython3",
   "version": "3.6.2"
  }
 },
 "nbformat": 4,
 "nbformat_minor": 1
}
