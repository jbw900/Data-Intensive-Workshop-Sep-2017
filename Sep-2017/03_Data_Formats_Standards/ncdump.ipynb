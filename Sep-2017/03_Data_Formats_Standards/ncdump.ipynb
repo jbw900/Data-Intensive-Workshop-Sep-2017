{
 "cells": [
  {
   "cell_type": "markdown",
   "metadata": {},
   "source": [
    "![](../nci-logo.png)\n",
    "\n",
    "-------\n",
    "# Using NetCDF command line tool \"ncdump\" \n",
    "**NetCDF Library Version: 4.3.3.1**\n",
    "\n",
    "-----\n",
    "\n",
    "### In this notebook:\n",
    "\n",
    "- How to use the NetCDF library command line tool \"ncdump\" to view file contents and metadata information\n",
    "\n",
    "\n",
    "\n",
    "#### The following material uses Geoscience Australia's Landsat 8 Data Collection which is available under the Creative Commons License 4.0. For more information on the collection and licensing, please [click here](http://geonetwork.nci.org.au/geonetwork/srv/eng/catalog.search#/metadata/f6600_8228_7170_1486). \n",
    "---------\n",
    "\n",
    "<br>\n",
    "\n"
   ]
  },
  {
   "cell_type": "markdown",
   "metadata": {},
   "source": [
    "## Load the required NetCDF library module"
   ]
  },
  {
   "cell_type": "markdown",
   "metadata": {},
   "source": [
    "#### As both the VDI and Raijin have several NetCDF libraries available, we recommend specifying the version number when loading modules. \n",
    "\n",
    "```\n",
    "$ module load netcdf/4.3.3.1\n",
    "```\n",
    "   "
   ]
  },
  {
   "cell_type": "markdown",
   "metadata": {},
   "source": [
    "# Using `ncdump`\n",
    "\n",
    "The NetCDF library' `ncdump` is command line tool used to view a text representation of a NetCDF file's contents. More detailed information can be found [here](http://www.unidata.ucar.edu/software/netcdf/netcdf-4/newdocs/ncdump-man-1.html) from Unidata. "
   ]
  },
  {
   "cell_type": "markdown",
   "metadata": {},
   "source": [
    "### Getting started"
   ]
  },
  {
   "cell_type": "markdown",
   "metadata": {},
   "source": [
    "#### To being with, enter `ncdump` from the command line:\n",
    "\n",
    "```\n",
    "$ ncdump\n",
    "```"
   ]
  },
  {
   "cell_type": "markdown",
   "metadata": {},
   "source": [
    "#### This will display a list of all the different information and output types `ncdump` can return:\n",
    "\n",
    "```\n",
    "ncdump [-c|-h] [-v ...] [[-b|-f] [c|f]] [-l len] [-n name] [-p n[,n]] [-k] [-x] [-s] [-t|-i] [-g ...] [-w] file\n",
    "  [-c]             Coordinate variable data and header information\n",
    "  [-h]             Header information only, no data\n",
    "  [-v var1[,...]]  Data for variable(s) <var1>,... only\n",
    "  [-b [c|f]]       Brief annotations for C or Fortran indices in data\n",
    "  [-f [c|f]]       Full annotations for C or Fortran indices in data\n",
    "  [-l len]         Line length maximum in data section (default 80)\n",
    "  [-n name]        Name for netCDF (default derived from file name)\n",
    "  [-p n[,n]]       Display floating-point values with less precision\n",
    "  [-k]             Output kind of netCDF file\n",
    "  [-s]             Output special (virtual) attributes\n",
    "  [-t]             Output time data as date-time strings\n",
    "  [-i]             Output time data as date-time strings with ISO-8601 'T' separator\n",
    "  [-g grp1[,...]]  Data and metadata for group(s) <grp1>,... only\n",
    "  [-w]             With client-side caching of variables for DAP URLs\n",
    "  [-x]             Output XML (NcML) instead of CDL\n",
    "  file             Name of netCDF file (or URL if DAP access enabled)\n",
    "\n",
    "```"
   ]
  },
  {
   "cell_type": "markdown",
   "metadata": {},
   "source": [
    "### Determining what type of netCDF file you are viewing"
   ]
  },
  {
   "cell_type": "markdown",
   "metadata": {},
   "source": [
    "#### The '-k' option (for 'kind') \n",
    "\n",
    "```\n",
    "$ ncdump -k <file>\n",
    "```"
   ]
  },
  {
   "cell_type": "markdown",
   "metadata": {},
   "source": [
    "### View basic file header (or metadata) information\n",
    "#### The '-h' option (for 'header')\n",
    "\n",
    "Use the ‘-h’ option to view the netcdf file header information (file can be called by local path name or remotely using the OPeNDAP URL): \n",
    "\n",
    "```\n",
    "$ ncdump -h <file>\n",
    "```\n",
    "\n",
    "**E.g.,**\n",
    "```\n",
    "$ ncdump -h /g/data2/uc0/NCI_Training/LS8_OLI_TIRS_NBAR_3577_-10_-28_2013.nc\n",
    "\n",
    "\n",
    "```\n",
    "\n",
    "\n",
    "This will display the: (1) file dimensions, (2) variables and variable metadata, and (3) global metadata. \n",
    "\n",
    "\n",
    "<img src=\"./images/ncdump2.png\">\n",
    "\n",
    "\n",
    "\n",
    "#### Note that you can also enter an OPeNDAP data URL (see more on NCI's THREDDS Data Service for more information on the data URLs)\n",
    "\n",
    "<img src=\"./images/ncdump1.png\">"
   ]
  },
  {
   "cell_type": "markdown",
   "metadata": {},
   "source": [
    "### View special attributes such as chunking and compression information\n",
    "#### Use the combination  '-hs' \n",
    "\n",
    "```\n",
    "$ ncdump -hs <file>\n",
    "\n",
    "\n",
    "$ ncdump -hs /g/data2/uc0/NCI_Training/LS8_OLI_TIRS_NBAR_3577_-10_-28_2013.nc\n",
    "\n",
    "```"
   ]
  },
  {
   "cell_type": "markdown",
   "metadata": {},
   "source": [
    "<br>\n",
    "<br>\n",
    "## Extra exercises\n",
    "\n",
    "<br>\n",
    "\n",
    "<div class=\"alert alert-success\">\n",
    "<b>Try using the above \"ncdump\" commands to view the contents of the files below (note you can use the filepath or the OPeNDAP data URL): </b> \n",
    "<br>\n",
    "<br>\n",
    "/g/data/rr2/National_Coverages/IR_gravity_anomaly_Australia_V1/IR_gravity_anomaly_Australia_V1.nc\n",
    "<br>\n",
    "<br>\n",
    "http://dapds00.nci.org.au/thredds/dodsC/fx3/gbr4_v2/gbr4_simple_2016-10.nc \n",
    "<br>\n",
    "<br>\n",
    "http://dapds00.nci.org.au/thredds/dodsC/ua6_4/CMIP5/derived/CMIP5/GCM/native/CSIRO-BOM/ACCESS1-0/historical/day/atmos/Amon/r1i1p1/latest/sfcWind/GEV-lmon-clim/sfcWind_Amon_ACCESS1-0_historical_r1i1p1_1986-2005-monMax-GEV-lmon-clim_native.nc\n",
    "\n",
    "</div>\n",
    "\n",
    "\n",
    "\n",
    "\n"
   ]
  },
  {
   "cell_type": "code",
   "execution_count": null,
   "metadata": {
    "collapsed": true
   },
   "outputs": [],
   "source": []
  }
 ],
 "metadata": {
  "anaconda-cloud": {},
  "kernelspec": {
   "display_name": "Python 3",
   "language": "python",
   "name": "python3"
  },
  "language_info": {
   "codemirror_mode": {
    "name": "ipython",
    "version": 3
   },
   "file_extension": ".py",
   "mimetype": "text/x-python",
   "name": "python",
   "nbconvert_exporter": "python",
   "pygments_lexer": "ipython3",
   "version": "3.6.2"
  }
 },
 "nbformat": 4,
 "nbformat_minor": 1
}
