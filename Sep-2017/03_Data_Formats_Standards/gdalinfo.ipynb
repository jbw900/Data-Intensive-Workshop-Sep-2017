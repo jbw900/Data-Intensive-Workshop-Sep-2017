{
 "cells": [
  {
   "cell_type": "markdown",
   "metadata": {},
   "source": [
    "![](../nci-logo.png)\n",
    "\n",
    "-------\n",
    "# Using the GDAL library with NetCDF files\n",
    "**Version: 1.11.1** \n",
    "\n",
    "-----\n",
    "\n",
    "### In this notebook:\n",
    "\n",
    "- How to use GDAL to view file contents and metadata information \n",
    "\n",
    "\n",
    "\n",
    "#### The following material uses Geoscience Australia's Landsat 8 Data Collection which is available under the Creative Commons License 4.0. For more information on the collection and licensing, please [click here](http://geonetwork.nci.org.au/geonetwork/srv/eng/catalog.search#/metadata/f6600_8228_7170_1486). \n",
    "\n",
    "---------\n",
    "\n",
    "<br>\n",
    "\n"
   ]
  },
  {
   "cell_type": "markdown",
   "metadata": {},
   "source": [
    "### Load the GDAL library \n",
    "\n",
    "```\n",
    "$ module load gdal/1.11.1\n",
    "```"
   ]
  },
  {
   "cell_type": "markdown",
   "metadata": {},
   "source": [
    "## The `gdalinfo` command"
   ]
  },
  {
   "cell_type": "markdown",
   "metadata": {},
   "source": [
    "### To view information on file contents, use `gdalinfo` followed by the file path\n",
    "\n",
    "```\n",
    "$ gdalinfo <file> \n",
    "```\n",
    "\n",
    "\n",
    "**E.g.,**\n",
    "```\n",
    "$ /g/data2/uc0/NCI_Training/LS8_OLI_TIRS_NBAR_3577_-10_-28_2013.nc\n",
    "```"
   ]
  },
  {
   "cell_type": "markdown",
   "metadata": {},
   "source": [
    "\n",
    "\n",
    "This will display the top-level (or global) metadata for the file along with the subdatasets and coordinate reference system information. "
   ]
  },
  {
   "cell_type": "markdown",
   "metadata": {},
   "source": [
    "### Read and display subdataset metadata contents"
   ]
  },
  {
   "cell_type": "markdown",
   "metadata": {},
   "source": [
    "<img src=\"./images/gdal2.png\">"
   ]
  },
  {
   "cell_type": "markdown",
   "metadata": {},
   "source": [
    "### \n",
    "\n",
    "**Note**: For netCDF and HDF files, this will typically be empty until selecting a subdataset (example below). "
   ]
  },
  {
   "cell_type": "markdown",
   "metadata": {},
   "source": [
    "To read the subdataset contents (in this case one of the netCDF variables): \n",
    "\n",
    "```\n",
    "$ gdalinfo NETCDF:<file>:<subdataset>\n",
    "```\n",
    "\n",
    "This will display the metadata of that subdataset or variable and the coordinate reference system (CRS) information (if included). \n",
    "\n",
    "**Note:** If CRS information is included within the file but not displayed, the GDAL library is not properly understanding the projection information. Projection information needs to be reformatted. "
   ]
  },
  {
   "cell_type": "markdown",
   "metadata": {},
   "source": [
    "<img src=\"./images/gdal3.png\">"
   ]
  }
 ],
 "metadata": {
  "anaconda-cloud": {},
  "kernelspec": {
   "display_name": "Python 3",
   "language": "python",
   "name": "python3"
  },
  "language_info": {
   "codemirror_mode": {
    "name": "ipython",
    "version": 3
   },
   "file_extension": ".py",
   "mimetype": "text/x-python",
   "name": "python",
   "nbconvert_exporter": "python",
   "pygments_lexer": "ipython3",
   "version": "3.6.2"
  }
 },
 "nbformat": 4,
 "nbformat_minor": 1
}
